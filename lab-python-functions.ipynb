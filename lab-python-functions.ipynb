{
 "cells": [
  {
   "cell_type": "markdown",
   "id": "25d7736c-ba17-4aff-b6bb-66eba20fbf4e",
   "metadata": {},
   "source": [
    "# Lab | Functions"
   ]
  },
  {
   "cell_type": "markdown",
   "id": "0c581062-8967-4d93-b06e-62833222f930",
   "metadata": {
    "tags": []
   },
   "source": [
    "## Exercise: Managing Customer Orders with Functions\n",
    "\n",
    "In the previous exercise, you improved the code for managing customer orders by using loops and flow control. Now, let's take it a step further and refactor the code by introducing functions.\n",
    "\n",
    "Follow the steps below to complete the exercise:\n",
    "\n",
    "1. Define a function named `initialize_inventory` that takes `products` as a parameter. Inside the function, implement the code for initializing the inventory dictionary using a loop and user input.\n",
    "\n",
    "2. Define a function named `get_customer_orders` that takes no parameters. Inside the function, implement the code for prompting the user to enter the product names using a loop. The function should return the `customer_orders` set.\n",
    "\n",
    "3. Define a function named `update_inventory` that takes `customer_orders` and `inventory` as parameters. Inside the function, implement the code for updating the inventory dictionary based on the customer orders.\n",
    "\n",
    "4. Define a function named `calculate_order_statistics` that takes `customer_orders` and `products` as parameters. Inside the function, implement the code for calculating the order statistics (total products ordered, and percentage of unique products ordered). The function should return these values.\n",
    "\n",
    "5. Define a function named `print_order_statistics` that takes `order_statistics` as a parameter. Inside the function, implement the code for printing the order statistics.\n",
    "\n",
    "6. Define a function named `print_updated_inventory` that takes `inventory` as a parameter. Inside the function, implement the code for printing the updated inventory.\n",
    "\n",
    "7. Call the functions in the appropriate sequence to execute the program and manage customer orders.\n",
    "\n",
    "Hints for functions:\n",
    "\n",
    "- Consider the input parameters required for each function and their return values.\n",
    "- Utilize function parameters and return values to transfer data between functions.\n",
    "- Test your functions individually to ensure they work correctly.\n",
    "\n",
    "\n"
   ]
  },
  {
   "cell_type": "code",
   "execution_count": 16,
   "id": "2c7e51ef",
   "metadata": {},
   "outputs": [],
   "source": [
    "def initialize_inventory(products):\n",
    "    inventory = {}\n",
    "    for product in products:\n",
    "        inventory[product] = int(input(f\"Please enter the quantity of {product}: \"))\n",
    "    return inventory\n",
    "\n",
    "# items = [\"apples\", \"bananas\", \"pineapples\"]\n",
    "# inventory = initialize_inventory(items)"
   ]
  },
  {
   "cell_type": "code",
   "execution_count": 20,
   "id": "12e6c24b",
   "metadata": {},
   "outputs": [
    {
     "name": "stdout",
     "output_type": "stream",
     "text": [
      "jam\n",
      "biscuits\n",
      "apples\n",
      "bananas\n",
      "{'bananas', 'apples'}\n"
     ]
    }
   ],
   "source": [
    "# 2. Define a function named `get_customer_orders` that takes no parameters.\n",
    "# Inside the function, implement the code for prompting the user to enter the product names using a loop.\n",
    "# The function should return the `customer_orders` set.\n",
    "\n",
    "def get_customer_orders():\n",
    "    customer_orders = set()\n",
    "    while True:\n",
    "        shopping_list = input(\"What would you like to buy?\")\n",
    "        if inventory.get(shopping_list):\n",
    "            customer_orders.add(shopping_list)\n",
    "        keep_going = input(\"Would you like to continue shopping?\").lower()\n",
    "        if keep_going == \"n\" or keep_going == \"no\":\n",
    "            break\n",
    "    return customer_orders\n",
    "\n",
    "# customer_order = get_customer_orders()\n",
    "# print(customer_order)"
   ]
  },
  {
   "cell_type": "code",
   "execution_count": 26,
   "id": "586c43c6",
   "metadata": {},
   "outputs": [],
   "source": [
    "# 3. Define a function named `update_inventory` that takes `customer_orders` and\n",
    "# `inventory` as parameters. Inside the function, implement the code for updating\n",
    "# the inventory dictionary based on the customer orders.\n",
    "\n",
    "def update_inventory(customer_orders, inventory):\n",
    "    for item in customer_orders:\n",
    "        inventory[item] -= 1\n",
    "    return inventory\n",
    "\n",
    "# updated_inventory = update_inventory(customer_order,inventory)\n"
   ]
  },
  {
   "cell_type": "code",
   "execution_count": 24,
   "id": "167615c7",
   "metadata": {},
   "outputs": [
    {
     "name": "stdout",
     "output_type": "stream",
     "text": [
      "total_products_ordered = 2\n",
      "percentage of unique products ordered = 66%\n"
     ]
    }
   ],
   "source": [
    "# 4. Define a function named `calculate_order_statistics` that takes `customer_orders` and `products`\n",
    "# as parameters. Inside the function, implement the code for calculating the order statistics\n",
    "# (total products ordered, and percentage of unique products ordered). The function should return these values.\n",
    "\n",
    "def calculate_order_statistics(customer_orders, products):\n",
    "    total_products_ordered = len(customer_orders)\n",
    "    print(f\"total_products_ordered = {total_products_ordered}\")\n",
    "    percentage_of_unique_products_ordered = int((total_products_ordered/len(products))* 100)\n",
    "    print(f\"percentage of unique products ordered = {percentage_of_unique_products_ordered }%\")\n",
    "\n",
    "# calculate_order_statistics(customer_order, items)"
   ]
  },
  {
   "cell_type": "code",
   "execution_count": null,
   "id": "bb4d94af",
   "metadata": {},
   "outputs": [],
   "source": [
    "# 5. Define a function named `print_order_statistics` that takes `order_statistics`\n",
    "# as a parameter. Inside the function, implement the code for printing the order statistics.\n"
   ]
  },
  {
   "cell_type": "code",
   "execution_count": 27,
   "id": "d3f14aec",
   "metadata": {},
   "outputs": [
    {
     "name": "stdout",
     "output_type": "stream",
     "text": [
      "{'apples': 7, 'bananas': 7, 'pineapples': 10}\n"
     ]
    }
   ],
   "source": [
    "# 6. Define a function named `print_updated_inventory` that takes `inventory` as a parameter.\n",
    "# Inside the function, implement the code for printing the updated inventory.\n",
    "\n",
    "def print_updated_inventory(inventory):\n",
    "    print(inventory)\n",
    "\n",
    "# print_updated_inventory(updated_inventory)"
   ]
  },
  {
   "cell_type": "code",
   "execution_count": 28,
   "id": "f5144cd0",
   "metadata": {},
   "outputs": [
    {
     "name": "stdout",
     "output_type": "stream",
     "text": [
      "jam\n",
      "bread\n",
      "apples\n",
      "The customer has ordered: {'apples'}\n",
      "The new inventory is: {'apples': 9, 'bananas': 10, 'pineapples': 10}\n",
      "total_products_ordered = 1\n",
      "percentage of unique products ordered = 33%\n",
      "{'apples': 9, 'bananas': 10, 'pineapples': 10}\n"
     ]
    }
   ],
   "source": [
    "items = [\"apples\", \"bananas\", \"pineapples\"]\n",
    "inventory = initialize_inventory(items)\n",
    "\n",
    "customer_order = get_customer_orders()\n",
    "print(f\"The customer has ordered: {customer_order}\")\n",
    "\n",
    "updated_inventory = update_inventory(customer_order,inventory)\n",
    "print(f\"The new inventory is: {updated_inventory}\")\n",
    "\n",
    "calculate_order_statistics(customer_order, items)\n",
    "\n",
    "print_updated_inventory(updated_inventory)"
   ]
  }
 ],
 "metadata": {
  "kernelspec": {
   "display_name": "Python 3 (ipykernel)",
   "language": "python",
   "name": "python3"
  },
  "language_info": {
   "codemirror_mode": {
    "name": "ipython",
    "version": 3
   },
   "file_extension": ".py",
   "mimetype": "text/x-python",
   "name": "python",
   "nbconvert_exporter": "python",
   "pygments_lexer": "ipython3",
   "version": "3.11.7"
  }
 },
 "nbformat": 4,
 "nbformat_minor": 5
}
